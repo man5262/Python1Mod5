{
 "cells": [
  {
   "cell_type": "markdown",
   "metadata": {},
   "source": [
    "1. Create a dictionary named pairs with key value pairs of hello and fire, 3 and seven, strong and 45. Print out the dictionary."
   ]
  },
  {
   "cell_type": "code",
   "execution_count": 2,
   "metadata": {},
   "outputs": [
    {
     "name": "stdout",
     "output_type": "stream",
     "text": [
      "{'hello': 'fire', 3: 7, 'strong': 45}\n"
     ]
    }
   ],
   "source": [
    "pairs = {\"hello\" : \"fire\", 3 : 7, \"strong\" : 45}\n",
    "print (pairs)"
   ]
  },
  {
   "cell_type": "markdown",
   "metadata": {},
   "source": [
    "2. Add welcome and 56 pair into pairs dictionary. Print out the dictionary. "
   ]
  },
  {
   "cell_type": "code",
   "execution_count": 6,
   "metadata": {},
   "outputs": [
    {
     "name": "stdout",
     "output_type": "stream",
     "text": [
      "{'hello': 'fire', 3: 7, 'strong': 45, 'welcome': 56}\n"
     ]
    }
   ],
   "source": [
    "pairs = {\"hello\" : \"fire\", 3 : 7, \"strong\" : 45}\n",
    "pairs[\"welcome\"] = 56\n",
    "print (pairs)"
   ]
  },
  {
   "cell_type": "markdown",
   "metadata": {},
   "source": [
    "3. Delete one item from the Dictionary. Print deleted item and the dictionary."
   ]
  },
  {
   "cell_type": "code",
   "execution_count": 10,
   "metadata": {},
   "outputs": [
    {
     "name": "stdout",
     "output_type": "stream",
     "text": [
      "The deleted item is {3: 7}\n",
      "The dictionary is: {'hello': 'fire', 'strong': 45}\n"
     ]
    }
   ],
   "source": [
    "pairs = {\"hello\" : \"fire\", 3 : 7, \"strong\" : 45}\n",
    "del_item = {}\n",
    "del_key = 3\n",
    "del_item[del_key] = pairs.pop(del_key)\n",
    "print(f\"The deleted item is {del_item}\")\n",
    "print(f\"The dictionary is: {pairs}\")"
   ]
  },
  {
   "cell_type": "markdown",
   "metadata": {},
   "source": [
    "4. Print the value of an item where key is 3 from the dicitonary"
   ]
  },
  {
   "cell_type": "code",
   "execution_count": 22,
   "metadata": {},
   "outputs": [
    {
     "name": "stdout",
     "output_type": "stream",
     "text": [
      "The value of item with key = 3 is 7\n",
      "The value of item with key = 'other than 3' is not part of the pairs dictionary\n"
     ]
    }
   ],
   "source": [
    "pairs = {\"hello\" : \"fire\", 3 : 7, \"strong\" : 45}\n",
    "\n",
    "# print value of key = 3\n",
    "key_to_check = 3\n",
    "val = pairs.get(key_to_check, \"not part of the pairs dictionary\")\n",
    "print(f\"The value of item with key = {key_to_check} is {val}\")\n",
    "\n",
    "# print value of key != 3\n",
    "key_to_check = \"'other than 3'\"\n",
    "val = pairs.get(key_to_check, \"not part of the pairs dictionary\")\n",
    "print(f\"The value of item with key = {key_to_check} is {val}\")"
   ]
  },
  {
   "cell_type": "markdown",
   "metadata": {},
   "source": [
    "5. Try to find out if the key called hello exist. Print out the key is found if it is there otherwise print out the key is not there."
   ]
  },
  {
   "cell_type": "code",
   "execution_count": 26,
   "metadata": {},
   "outputs": [
    {
     "name": "stdout",
     "output_type": "stream",
     "text": [
      "Key 'hello' is found in the pairs dictionary\n"
     ]
    }
   ],
   "source": [
    "pairs = {\"hello\" : \"fire\", 3 : 7, \"strong\" : 45}\n",
    "key_to_check = \"hello\"\n",
    "if key_to_check in pairs.keys():\n",
    "    print(f\"Key '{key_to_check}' is found in the pairs dictionary\")\n",
    "else:\n",
    "    print(f\"Key '{key_to_check}' is not found in the pairs dictionary\")"
   ]
  },
  {
   "cell_type": "markdown",
   "metadata": {},
   "source": [
    "6. Loop through the dictionary and print out each value. "
   ]
  },
  {
   "cell_type": "code",
   "execution_count": 27,
   "metadata": {},
   "outputs": [
    {
     "name": "stdout",
     "output_type": "stream",
     "text": [
      "fire\n",
      "7\n",
      "45\n"
     ]
    }
   ],
   "source": [
    "pairs = {\"hello\" : \"fire\", 3 : 7, \"strong\" : 45}\n",
    "for val in pairs.values():\n",
    "    print (val)"
   ]
  },
  {
   "cell_type": "markdown",
   "metadata": {},
   "source": [
    "7. Loop through the dictionary and print out each key."
   ]
  },
  {
   "cell_type": "code",
   "execution_count": 28,
   "metadata": {},
   "outputs": [
    {
     "name": "stdout",
     "output_type": "stream",
     "text": [
      "hello\n",
      "3\n",
      "strong\n"
     ]
    }
   ],
   "source": [
    "pairs = {\"hello\" : \"fire\", 3 : 7, \"strong\" : 45}\n",
    "for key1 in pairs.keys():\n",
    "    print (key1)"
   ]
  },
  {
   "cell_type": "markdown",
   "metadata": {},
   "source": [
    "8. Loop through the dictionary and print out each key and value pair. "
   ]
  },
  {
   "cell_type": "code",
   "execution_count": 30,
   "metadata": {},
   "outputs": [
    {
     "name": "stdout",
     "output_type": "stream",
     "text": [
      "('hello', 'fire')\n",
      "(3, 7)\n",
      "('strong', 45)\n"
     ]
    }
   ],
   "source": [
    "pairs = {\"hello\" : \"fire\", 3 : 7, \"strong\" : 45}\n",
    "for pair in pairs.items():\n",
    "    print(pair)"
   ]
  },
  {
   "cell_type": "markdown",
   "metadata": {},
   "source": [
    "9. Make a nested dictionary called parent with 2 children's information: name, age, gender. Print out parent."
   ]
  },
  {
   "cell_type": "code",
   "execution_count": 32,
   "metadata": {},
   "outputs": [
    {
     "name": "stdout",
     "output_type": "stream",
     "text": [
      "{'1st child': {'name': 'Megan', 'age': 4, 'gender': 'girl'}, '2nd child': {'name': 'Bob', 'age': 2, 'gender': 'boy'}}\n"
     ]
    }
   ],
   "source": [
    "kid1 = {\"name\" : \"Megan\", \"age\" : 4, \"gender\" : \"girl\"}\n",
    "kid2 = {\"name\" : \"Bob\", \"age\" : 2, \"gender\" : \"boy\"}\n",
    "parent = {\"1st child\" : kid1, \"2nd child\" : kid2}\n",
    "print(parent)"
   ]
  },
  {
   "cell_type": "markdown",
   "metadata": {},
   "source": [
    "10. Add new child to above dictionary. Print out the name of all children."
   ]
  },
  {
   "cell_type": "code",
   "execution_count": 39,
   "metadata": {},
   "outputs": [
    {
     "name": "stdout",
     "output_type": "stream",
     "text": [
      "Megan\n",
      "Bob\n",
      "Amy\n"
     ]
    }
   ],
   "source": [
    "kid1 = {\"name\" : \"Megan\", \"age\" : 4, \"gender\" : \"girl\"}\n",
    "kid2 = {\"name\" : \"Bob\", \"age\" : 2, \"gender\" : \"boy\"}\n",
    "parent = {\"1st child\" : kid1, \"2nd child\" : kid2}\n",
    "\n",
    "new_kid = {\"name\" : \"Amy\", \"age\" : 0, \"gender\" : \"girl\"}\n",
    "parent[\"3rd child\"] = new_kid\n",
    "for kid in parent.values():\n",
    "    print(kid[\"name\"])"
   ]
  },
  {
   "cell_type": "markdown",
   "metadata": {},
   "source": [
    "11. Create a Test Scores program that gets the name of students and test score from a user. Then, generate a list of students who passed and a list of students who failed where passing test score is 60 or above. "
   ]
  },
  {
   "cell_type": "code",
   "execution_count": 46,
   "metadata": {},
   "outputs": [
    {
     "name": "stdout",
     "output_type": "stream",
     "text": [
      "Please enter the name of student.\n",
      "Enter 'q' to quit entering scores: greg\n",
      "Please enter a test score for student greg: 60\n",
      "Please enter the name of student.\n",
      "Enter 'q' to quit entering scores: Donna\n",
      "Please enter a test score for student Donna: 46\n",
      "Please enter the name of student.\n",
      "Enter 'q' to quit entering scores: meg\n",
      "Please enter a test score for student meg: 90\n",
      "Please enter the name of student.\n",
      "Enter 'q' to quit entering scores: ark\n",
      "Please enter a test score for student ark: 88\n",
      "Please enter the name of student.\n",
      "Enter 'q' to quit entering scores: JIM\n",
      "Please enter a test score for student JIM: 87\n",
      "Please enter the name of student.\n",
      "Enter 'q' to quit entering scores: nora\n",
      "Please enter a test score for student nora: 49\n",
      "Please enter the name of student.\n",
      "Enter 'q' to quit entering scores: Andrew\n",
      "Please enter a test score for student Andrew: 0\n",
      "Please enter the name of student.\n",
      "Enter 'q' to quit entering scores: q\n",
      "Students who passed the test are: ['Greg', 'Meg', 'Ark', 'Jim']\n",
      "Students who failed the test are: ['Donna', 'Nora', 'Andrew']\n"
     ]
    }
   ],
   "source": [
    "scores = {}\n",
    "err = False\n",
    "passed_list = []\n",
    "failed_list = []\n",
    "while True:\n",
    "    student = input(\"Please enter the name of student.\\nEnter 'q' to quit entering scores: \")\n",
    "    if student.lower() == 'q':\n",
    "        break\n",
    "    else:\n",
    "        while True:\n",
    "            scorestr = input(\"Please enter a test score for student \" + student + \": \")\n",
    "            try:\n",
    "                score = int(scorestr)\n",
    "            except:\n",
    "                err = True\n",
    "            if (err or score < 0 or score > 100):\n",
    "                print(\"ERROR: Invalid score value. Please try again.\")\n",
    "                err = False\n",
    "                continue\n",
    "            else:\n",
    "                scores[student] = score\n",
    "                break\n",
    "# print(scores)\n",
    "\n",
    "for name, score in scores.items():\n",
    "    if score >= 60:\n",
    "        passed_list.append(name.lower().title())\n",
    "    else:\n",
    "        failed_list.append(name.lower().title())\n",
    "print(f\"Students who passed the test are: {passed_list}\")\n",
    "print(f\"Students who failed the test are: {failed_list}\")"
   ]
  },
  {
   "cell_type": "markdown",
   "metadata": {},
   "source": [
    "12. Create a Word Counter program that gets a string of text from a user and then counts the number of times a word occrs in the string. \n",
    "\n",
    "The output should look something like this:\n",
    "\n",
    "    The Word Counter Program\n",
    "    \n",
    "    Enter a text string: \n",
    "    Humpty Dumpty sat on a wall, Humpty Dumpty had a great fall. All the king’s horses and all the king’s men couldn’t put Humpty together again.\n",
    "\n",
    "    a : 2\n",
    "    again : 1\n",
    "    all : 2\n",
    "    and : 1\n",
    "    couldn’t : 1\n",
    "    dumpty : 2\n",
    "    fall : 1\n",
    "    great : 1\n",
    "    had : 1\n",
    "    horses : 1\n",
    "    humpty : 3\n",
    "    king’s : 2\n",
    "    men : 1\n",
    "    on : 1\n",
    "    put : 1\n",
    "    sat : 1\n",
    "    the : 2\n",
    "    together : 1\n",
    "    wall : 1\n",
    "\n",
    "    There were total 26 words in the text string   "
   ]
  },
  {
   "cell_type": "code",
   "execution_count": 15,
   "metadata": {},
   "outputs": [
    {
     "name": "stdout",
     "output_type": "stream",
     "text": [
      "The word counting program\n",
      "\n",
      "\n",
      "Please enter a text string:\n",
      "In this tutorial, you'll learn how to parse, read, and write JSON to files in Python through examples, using load and dump methods\n",
      "methods : 1\n",
      "dump : 1\n",
      "and : 2\n",
      "load : 1\n",
      "using : 1\n",
      "examples : 1\n",
      "through : 1\n",
      "python : 1\n",
      "in : 2\n",
      "files : 1\n",
      "to : 2\n",
      "json : 1\n",
      "write : 1\n",
      "read : 1\n",
      "parse : 1\n",
      "how : 1\n",
      "learn : 1\n",
      "you'll : 1\n",
      "tutorial : 1\n",
      "this : 1\n",
      "\n",
      "There were total 23 words in the text string\n"
     ]
    }
   ],
   "source": [
    "word_count = {}\n",
    "print(\"The word counting program\\n\\n\")\n",
    "text = input(\"Please enter a text string:\\n\").lower()\n",
    "text = text.replace(',', '')\n",
    "text = text.replace('.', '')\n",
    "word_list = text.split(' ')\n",
    "number_of_words = len(word_list)\n",
    "while len(word_list) > 0:\n",
    "    word = word_list.pop()\n",
    "    if word in word_count.keys():\n",
    "        word_count[word] += 1\n",
    "    else:\n",
    "        word_count[word] = 1\n",
    "for item in word_count.keys():\n",
    "    print(f\"{item} : {word_count[item]}\")\n",
    "print(f\"\\nThere were total {number_of_words} words in the text string\")\n",
    "\n",
    "        \n",
    "\n"
   ]
  },
  {
   "cell_type": "code",
   "execution_count": null,
   "metadata": {},
   "outputs": [],
   "source": [
    "\n"
   ]
  },
  {
   "cell_type": "code",
   "execution_count": null,
   "metadata": {},
   "outputs": [],
   "source": []
  }
 ],
 "metadata": {
  "kernelspec": {
   "display_name": "Python 3",
   "language": "python",
   "name": "python3"
  }
 },
 "nbformat": 4,
 "nbformat_minor": 4
}
